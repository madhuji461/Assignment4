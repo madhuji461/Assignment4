{
 "cells": [
  {
   "cell_type": "code",
   "execution_count": 1,
   "id": "e799ef3b-3c87-4a26-9d90-83ec3d679822",
   "metadata": {},
   "outputs": [],
   "source": [
    "Q1 = \"Explain Class and Object with respect to Object-Oriented Programming. Give a suitable example.\""
   ]
  },
  {
   "cell_type": "code",
   "execution_count": 2,
   "id": "29b8ec3f-0e80-4510-97e7-fee7d72b9c4f",
   "metadata": {},
   "outputs": [],
   "source": [
    "ans = \"Classes and Objects are basic concepts of Object Oriented Programming that revolve around real life entities. 1. Class is a set of object which shares common characteristics/ behavior and common properties/ attributes. 2. Class is not a real world entity. It is just a template or blueprint or prototype from which objects are created.\""
   ]
  },
  {
   "cell_type": "code",
   "execution_count": 3,
   "id": "b1529f62-3f7d-4929-9485-c4a5f832611f",
   "metadata": {},
   "outputs": [],
   "source": [
    "##Example "
   ]
  },
  {
   "cell_type": "code",
   "execution_count": 4,
   "id": "b55dcc48-8789-49e3-aba8-f69a3f2cd0a2",
   "metadata": {},
   "outputs": [],
   "source": [
    "class pwskills:\n",
    "    def welcome_msg(self):\n",
    "        print(\"welcome to pwskills\")"
   ]
  },
  {
   "cell_type": "code",
   "execution_count": 5,
   "id": "f21c8df8-b848-43d5-ba08-2f860e05b595",
   "metadata": {},
   "outputs": [],
   "source": [
    "madhu = pwskills()"
   ]
  },
  {
   "cell_type": "code",
   "execution_count": 6,
   "id": "b0150969-3569-45bc-b2d6-9be6fd7c2536",
   "metadata": {},
   "outputs": [
    {
     "name": "stdout",
     "output_type": "stream",
     "text": [
      "<class '__main__.pwskills'>\n"
     ]
    }
   ],
   "source": [
    "print(type(madhu))"
   ]
  },
  {
   "cell_type": "code",
   "execution_count": 8,
   "id": "37e48c2f-d935-45a5-9425-714fb34a5f12",
   "metadata": {},
   "outputs": [
    {
     "name": "stdout",
     "output_type": "stream",
     "text": [
      "welcome to pwskills\n"
     ]
    }
   ],
   "source": [
    "madhu.welcome_msg()"
   ]
  },
  {
   "cell_type": "code",
   "execution_count": 9,
   "id": "715a55b4-52ff-42d0-ad5a-19dad5d9c1f0",
   "metadata": {},
   "outputs": [],
   "source": [
    "Q2 = \" Name the four pillars of OOPs\""
   ]
  },
  {
   "cell_type": "code",
   "execution_count": 10,
   "id": "a785382e-b6b8-4aa8-83eb-8b3452b842f8",
   "metadata": {},
   "outputs": [],
   "source": [
    "Ans = \"The four pillars of OOPs (object-oriented programming) are data abstraction, encapsulation, inheritance, and polymorphism\""
   ]
  },
  {
   "cell_type": "code",
   "execution_count": 11,
   "id": "12aabf0d-b86e-425c-9439-d8ecaf38626f",
   "metadata": {},
   "outputs": [],
   "source": [
    "Q3 =\"Explain why the __init__() function is used. Give a suitable example\""
   ]
  },
  {
   "cell_type": "code",
   "execution_count": 12,
   "id": "4588d0ef-3bf6-489d-85a7-466b7d8a1a05",
   "metadata": {},
   "outputs": [],
   "source": [
    "ans = \"Use the __init__ () function to assign values to object properties, or other operations that are necessary to do when the object is being created\""
   ]
  },
  {
   "cell_type": "code",
   "execution_count": 13,
   "id": "dd9c3bee-7bd7-482a-8e38-4ae9a76e808a",
   "metadata": {},
   "outputs": [],
   "source": [
    "##example"
   ]
  },
  {
   "cell_type": "code",
   "execution_count": 16,
   "id": "1a21d582-bb3a-404e-982c-7e33a9eaa1d9",
   "metadata": {},
   "outputs": [],
   "source": [
    "class pwskills1 :\n",
    "    \n",
    "    def __init__(self , phone_number , email_id , student_id):\n",
    "        self.phone_number = phone_number\n",
    "        self.email_id = email_id\n",
    "        self.student_id = student_id\n",
    "        \n",
    "    def return_student_details(self):\n",
    "        return self.student_id , self.email_id , self.phone_number"
   ]
  },
  {
   "cell_type": "code",
   "execution_count": 18,
   "id": "d3aef9c9-ef46-421d-89e7-f3ee860485ed",
   "metadata": {},
   "outputs": [],
   "source": [
    "madhu = pwskills1(2345675432, \"madhu@gmail.com\" , 101)"
   ]
  },
  {
   "cell_type": "code",
   "execution_count": 19,
   "id": "c498d263-e830-44dc-af69-6cdb6bc8402c",
   "metadata": {},
   "outputs": [
    {
     "data": {
      "text/plain": [
       "(101, 'madhu@gmail.com', 2345675432)"
      ]
     },
     "execution_count": 19,
     "metadata": {},
     "output_type": "execute_result"
    }
   ],
   "source": [
    "madhu.return_student_details()"
   ]
  },
  {
   "cell_type": "code",
   "execution_count": 20,
   "id": "5d8149c5-b410-43a1-87d7-cc3e067ed2a8",
   "metadata": {},
   "outputs": [
    {
     "data": {
      "text/plain": [
       "2345675432"
      ]
     },
     "execution_count": 20,
     "metadata": {},
     "output_type": "execute_result"
    }
   ],
   "source": [
    "madhu.phone_number"
   ]
  },
  {
   "cell_type": "code",
   "execution_count": 21,
   "id": "ecc712d3-b4ce-4b72-9408-d114ff604bce",
   "metadata": {},
   "outputs": [
    {
     "data": {
      "text/plain": [
       "'madhu@gmail.com'"
      ]
     },
     "execution_count": 21,
     "metadata": {},
     "output_type": "execute_result"
    }
   ],
   "source": [
    "madhu.email_id"
   ]
  },
  {
   "cell_type": "code",
   "execution_count": 22,
   "id": "e7e97e2e-a007-4583-aac2-9f2970cc5b6f",
   "metadata": {},
   "outputs": [
    {
     "data": {
      "text/plain": [
       "101"
      ]
     },
     "execution_count": 22,
     "metadata": {},
     "output_type": "execute_result"
    }
   ],
   "source": [
    "madhu.student_id"
   ]
  },
  {
   "cell_type": "code",
   "execution_count": 23,
   "id": "c5731b86-cfa3-4beb-96fb-02488c7a8d61",
   "metadata": {},
   "outputs": [],
   "source": [
    "Q4 =\" Why self is used in OOPs\""
   ]
  },
  {
   "cell_type": "code",
   "execution_count": 24,
   "id": "a26a16fe-08ea-4182-a3f4-5067eccc5e35",
   "metadata": {},
   "outputs": [],
   "source": [
    "Ans = \"self is actually just a randomly chosen word, that everyone uses, but you could also use this, foo, or myself or anything else you want, it's just the first parameter of every non static method for a class.\""
   ]
  },
  {
   "cell_type": "code",
   "execution_count": 25,
   "id": "bb86cb4e-69e7-4c32-99ec-f40b12c97803",
   "metadata": {},
   "outputs": [],
   "source": [
    "Q5 =\"What is inheritance? Give an example for each type of inheritance\""
   ]
  },
  {
   "cell_type": "code",
   "execution_count": 26,
   "id": "947e64bd-5b3f-42fc-b481-387e655cafe6",
   "metadata": {},
   "outputs": [],
   "source": [
    "ans = \"Inheritance is the ability of one class to inherit another class. Inheritance provides reusability of code and allows us to create complex and real-world-like relationships among objects\""
   ]
  },
  {
   "cell_type": "code",
   "execution_count": 29,
   "id": "961e67a8-bc6d-4723-905c-db4b6b566bcf",
   "metadata": {},
   "outputs": [],
   "source": [
    "## Types of inheritance\n",
    "#single inheritance\n",
    "#multilevel inheritance\n",
    "#Hybrid inheritance\n",
    "#Hierarchical inheritance\n",
    "#Multiple inheritance"
   ]
  },
  {
   "cell_type": "code",
   "execution_count": 14,
   "id": "62e676f5-9fd9-4ab1-b9e0-83f0b23fdf27",
   "metadata": {},
   "outputs": [],
   "source": [
    "#single inheritance\n",
    "\n",
    "# A Python program to demonstrate inheritance\n",
    " \n",
    "class Person(object):\n",
    "   \n",
    "  # Constructor\n",
    "  def __init__(self, name, id):\n",
    "    self.name = name\n",
    "    self.id = id\n",
    " \n",
    "  # To check if this person is an employee\n",
    "  def Display(self):\n",
    "    print(self.name, self.id)"
   ]
  },
  {
   "cell_type": "code",
   "execution_count": 15,
   "id": "3a456c19-fbd5-4b29-aa84-be98f7e97760",
   "metadata": {},
   "outputs": [],
   "source": [
    "emp = Person(\"Satyam\", 102)"
   ]
  },
  {
   "cell_type": "code",
   "execution_count": 16,
   "id": "ec0e4ec4-aa7f-413a-93a0-b9ce8159f1ed",
   "metadata": {},
   "outputs": [
    {
     "name": "stdout",
     "output_type": "stream",
     "text": [
      "Satyam 102\n"
     ]
    }
   ],
   "source": [
    "emp.Display()"
   ]
  },
  {
   "cell_type": "code",
   "execution_count": 27,
   "id": "33a43508-cdc6-495d-af95-fa5853e627f2",
   "metadata": {},
   "outputs": [],
   "source": [
    "#Multiple inheritance\n",
    "# Base class1\n",
    "class Mother:\n",
    "    mothername = \"\"\n",
    " \n",
    "    def mother(self):\n",
    "        print(self.mothername)\n",
    " \n",
    "# Base class2\n",
    " \n",
    " \n",
    "class Father:\n",
    "    fathername = \"\"\n",
    " \n",
    "    def father(self):\n",
    "        print(self.fathername)\n",
    " \n",
    "# Derived class\n",
    " \n",
    " \n",
    "class Son(Mother, Father):\n",
    "    def parents(self):\n",
    "        print(\"Father :\", self.fathername)\n",
    "        print(\"Mother :\", self.mothername)\n",
    " "
   ]
  },
  {
   "cell_type": "code",
   "execution_count": 22,
   "id": "57aef725-2b85-4de3-a411-07814d74bc23",
   "metadata": {},
   "outputs": [
    {
     "name": "stdout",
     "output_type": "stream",
     "text": [
      "Father : RAM\n",
      "Mother : SITA\n"
     ]
    }
   ],
   "source": [
    "s1 = Son()\n",
    "s1.fathername = \"RAM\"\n",
    "s1.mothername = \"SITA\"\n",
    "s1.parents()"
   ]
  },
  {
   "cell_type": "code",
   "execution_count": 23,
   "id": "d72eca39-d745-4193-a2b7-988a0b3b755c",
   "metadata": {},
   "outputs": [],
   "source": [
    "#Hybrid inheritance\n",
    "class School:\n",
    "    def func1(self):\n",
    "        print(\"This function is in school.\")\n",
    " \n",
    " \n",
    "class Student1(School):\n",
    "    def func2(self):\n",
    "        print(\"This function is in student 1. \")\n",
    " \n",
    " \n",
    "class Student2(School):\n",
    "    def func3(self):\n",
    "        print(\"This function is in student 2.\")\n",
    " \n",
    " \n",
    "class Student3(Student1, School):\n",
    "    def func4(self):\n",
    "        print(\"This function is in student 3.\")"
   ]
  },
  {
   "cell_type": "code",
   "execution_count": 24,
   "id": "0ff740e3-0609-427d-931e-8bb21160e0d3",
   "metadata": {},
   "outputs": [
    {
     "name": "stdout",
     "output_type": "stream",
     "text": [
      "This function is in school.\n",
      "This function is in student 1. \n"
     ]
    }
   ],
   "source": [
    "object = Student3()\n",
    "object.func1()\n",
    "object.func2()"
   ]
  },
  {
   "cell_type": "code",
   "execution_count": 25,
   "id": "5349e171-9ab8-4008-9634-1c0bb61ae94f",
   "metadata": {},
   "outputs": [],
   "source": [
    "#Hierarchical inheritance\n",
    "\n",
    "# Python program to demonstrate\n",
    "# Hierarchical inheritance\n",
    " \n",
    " \n",
    "# Base class\n",
    "class Parent:\n",
    "    def func1(self):\n",
    "        print(\"This function is in parent class.\")\n",
    " \n",
    "# Derived class1\n",
    " \n",
    " \n",
    "class Child1(Parent):\n",
    "    def func2(self):\n",
    "        print(\"This function is in child 1.\")\n",
    " \n",
    "# Derivied class2\n",
    " \n",
    " \n",
    "class Child2(Parent):\n",
    "    def func3(self):\n",
    "        print(\"This function is in child 2.\")"
   ]
  },
  {
   "cell_type": "code",
   "execution_count": 26,
   "id": "659c33de-db85-4cbb-ae74-3cb7ef306c39",
   "metadata": {},
   "outputs": [
    {
     "name": "stdout",
     "output_type": "stream",
     "text": [
      "This function is in parent class.\n",
      "This function is in child 1.\n",
      "This function is in parent class.\n",
      "This function is in child 2.\n"
     ]
    }
   ],
   "source": [
    "object1 = Child1()\n",
    "object2 = Child2()\n",
    "object1.func1()\n",
    "object1.func2()\n",
    "object2.func1()\n",
    "object2.func3()"
   ]
  },
  {
   "cell_type": "code",
   "execution_count": null,
   "id": "b6023259-51e2-4642-9266-ccfaef29a960",
   "metadata": {},
   "outputs": [],
   "source": []
  }
 ],
 "metadata": {
  "kernelspec": {
   "display_name": "Python 3 (ipykernel)",
   "language": "python",
   "name": "python3"
  },
  "language_info": {
   "codemirror_mode": {
    "name": "ipython",
    "version": 3
   },
   "file_extension": ".py",
   "mimetype": "text/x-python",
   "name": "python",
   "nbconvert_exporter": "python",
   "pygments_lexer": "ipython3",
   "version": "3.10.8"
  }
 },
 "nbformat": 4,
 "nbformat_minor": 5
}
